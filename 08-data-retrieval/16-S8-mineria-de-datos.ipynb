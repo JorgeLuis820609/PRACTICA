{
  "cells": [
    {
      "cell_type": "markdown",
      "metadata": {
        "id": "view-in-github",
        "colab_type": "text"
      },
      "source": [
        "<a href=\"https://colab.research.google.com/github/JorgeLuis820609/PRACTICA/blob/main/08-data-retrieval/16-S8-mineria-de-datos.ipynb\" target=\"_parent\"><img src=\"https://colab.research.google.com/assets/colab-badge.svg\" alt=\"Open In Colab\"/></a>"
      ]
    },
    {
      "cell_type": "markdown",
      "metadata": {
        "id": "Zc70E6-CKau4"
      },
      "source": [
        "# Técnicas para mineria de datos"
      ]
    },
    {
      "cell_type": "markdown",
      "metadata": {
        "id": "ImMXbuZkKau6"
      },
      "source": [
        "---\n",
        "\n",
        "**Objetivos académicos**\n",
        "\n",
        "1. Comprender los conceptos básicos de la minería de datos web y su importancia para obtener información de páginas y APIs.\n",
        "2. Identificar la estructura y los elementos principales del HTML para facilitar la extracción de datos relevantes.\n",
        "3. Aplicar técnicas de web scraping utilizando Python, `requests` y `BeautifulSoup` para recolectar y procesar información desde sitios web.\n",
        "4. Utilizar expresiones regulares y manipulación de datos para filtrar, limpiar y organizar la información extraída.\n",
        "5. Interactuar con APIs REST, comprendiendo los métodos HTTP más comunes y el manejo de datos en formato JSON, así como su integración en DataFrames para análisis posterior.\n",
        "\n",
        "---"
      ]
    },
    {
      "cell_type": "markdown",
      "metadata": {
        "id": "m-GAxN5moSMX"
      },
      "source": [
        "## Mineria de datos"
      ]
    },
    {
      "cell_type": "markdown",
      "metadata": {
        "id": "2Rt_9N8coFmi"
      },
      "source": [
        "**🔎 Introducción a la minería web**  \n",
        "\n",
        "---\n",
        "\n",
        "¿Sabías que puedes extraer información directamente desde cualquier página web? 🌐 La minería web es una técnica súper útil que permite a analistas y desarrolladores obtener datos valiosos de sitios en línea, especialmente cuando no se cuenta con suficiente información para hacer un buen análisis. A través de este proceso, podemos complementar nuestros datos, descubrir patrones interesantes y hasta encontrar cosas que no esperábamos 🎯. Para hacerlo, es clave entender cómo funciona el HTML, el lenguaje que da estructura a todas las páginas web. Cada título, párrafo, tabla o imagen está organizada con etiquetas especiales, ¡y conocerlas nos abre la puerta a todo ese contenido! 🚪📄\n",
        "\n",
        "**📬 Peticiones HTTP y cómo obtener datos**  \n",
        "\n",
        "---\n",
        "\n",
        "Cuando visitas una página web, tu navegador le manda una \"petición\" al servidor usando un protocolo llamado HTTP. A cambio, el servidor responde con el código HTML de la página 🧾. Lo mejor es que podemos imitar ese proceso desde Python usando la librería `requests` 🐍. Al hacerlo, recibimos el contenido de la página en forma de texto, que luego podemos analizar y filtrar para obtener solo lo que nos interesa: nombres de productos, precios, tablas de datos... lo que sea 📊🛒. Con herramientas como `BeautifulSoup`, ese texto se convierte en una fuente de información muy poderosa. ¡Es como tener una lupa para explorar la web! 🔍\n"
      ]
    },
    {
      "cell_type": "markdown",
      "metadata": {
        "id": "lvGoxEphqed-"
      },
      "source": [
        "**📬 Códigos de respuesta HTTP comunes**\n",
        "\n",
        "---\n",
        "\n",
        "Cuando haces una solicitud a una API (o a cualquier servidor web), recibes una respuesta con un código que indica si todo salió bien o si hubo algún problema. Aquí están los más comunes:\n",
        "\n",
        "| Código | Significado             | Descripción breve                                  |\n",
        "|--------|-------------------------|----------------------------------------------------|\n",
        "| 200    | OK                      | La solicitud fue exitosa y se devolvieron los datos. |\n",
        "| 201    | Created                 | El recurso fue creado exitosamente.               |\n",
        "| 204    | No Content              | La solicitud fue exitosa, pero no hay datos que devolver. |\n",
        "| 301    | Moved Permanently       | La URL solicitada se ha movido permanentemente.   |\n",
        "| 302    | Found                   | El recurso está temporalmente en otra ubicación.  |\n",
        "| 400    | Bad Request             | La solicitud tiene un error de sintaxis.          |\n",
        "| 401    | Unauthorized            | Falta autenticación o es inválida.                |\n",
        "| 403    | Forbidden               | Tienes prohibido el acceso al recurso.            |\n",
        "| 404    | Not Found               | El recurso solicitado no existe.                  |\n",
        "| 500    | Internal Server Error   | Error inesperado en el servidor.                  |\n",
        "| 502    | Bad Gateway             | El servidor recibió una respuesta inválida.       |\n",
        "| 503    | Service Unavailable     | El servidor está sobrecargado o en mantenimiento. |\n"
      ]
    },
    {
      "cell_type": "markdown",
      "metadata": {
        "id": "C2mT0o54Kau8"
      },
      "source": [
        "## 🏗️ Estructura básica de una página HTML\n",
        "\n",
        "Una página web está construida con HTML (HyperText Markup Language), que es el lenguaje que le da estructura y formato a todo lo que ves en Internet. El HTML organiza el contenido usando **etiquetas** (tags), que indican el propósito de cada elemento: títulos, párrafos, imágenes, tablas, enlaces, etc.  \n",
        "Las etiquetas pueden tener **atributos** que añaden información extra, como identificadores (`id`), clases (`class`), enlaces (`href`), rutas de imágenes (`src`), entre otros.  \n",
        "La estructura básica de cualquier página HTML suele verse así:\n",
        "\n",
        "```html\n",
        "<!DOCTYPE html>\n",
        "<html>\n",
        "  <head>\n",
        "    <title>Título de la página</title>\n",
        "  </head>\n",
        "  <body>\n",
        "    <h1 id=\"principal\" class=\"titulo\">Encabezado principal</h1>\n",
        "    <p class=\"intro\">Este es un párrafo de texto.</p>\n",
        "    <a href=\"https://tripleten.com\" target=\"_blank\" class=\"enlace-destacado\">Un enlace</a>\n",
        "    <img src=\"https://images.squarespace-cdn.com/content/v1/5d1ea2be4d6d79000127d718/e5ed5590-89f1-44ce-a0c0-207d87b0273c/tripleten-que-es-como-funciona-cuanto-cuesta.png\" alt=\"Descripción de la imagen\" class=\"img-responsive\">\n",
        "    <table class=\"tabla-datos\">\n",
        "      <tr><th>Columna 1</th><th>Columna 2</th></tr>\n",
        "      <tr><td data-info=\"dato1\">Dato 1</td><td>Dato 2</td></tr>\n",
        "    </table>\n",
        "  </body>\n",
        "</html>\n",
        "```\n",
        "\n",
        "En este ejemplo, puedes ver atributos como `id`, `class`, `href`, `src`, `alt`, `target` y `data-info`, que ayudan a identificar, clasificar o describir los elementos de la página.\n",
        "\n",
        "---"
      ]
    },
    {
      "cell_type": "markdown",
      "metadata": {
        "id": "oeU3gOu8Kau8"
      },
      "source": [
        "\n",
        "\n",
        "## 🔖 Etiquetas para la extracción de datos\n",
        "\n",
        "Al hacer minería web o scraping, hay ciertas etiquetas HTML que resultan especialmente útiles para extraer información relevante:\n",
        "\n",
        "- `<h1>`, `<h2>`, `<h3>`...: Encabezados o títulos de secciones.\n",
        "- `<p>`: Párrafos de texto.\n",
        "- `<a>`: Enlaces a otras páginas o recursos (el atributo `href` contiene la URL).\n",
        "- `<img>`: Imágenes (el atributo `src` contiene la ruta de la imagen).\n",
        "- `<table>`, `<tr>`, `<td>`, `<th>`: Tablas y sus celdas, ideales para datos estructurados.\n",
        "- `<ul>`, `<ol>`, `<li>`: Listas no ordenadas y ordenadas.\n",
        "- `<div>`, `<span>`: Contenedores genéricos, útiles para agrupar y dar formato a otros elementos.\n",
        "\n",
        "Conocer estas etiquetas te permitirá identificar y extraer la información que necesitas de cualquier página web de manera eficiente y precisa. 🕵️‍♂️📄"
      ]
    },
    {
      "cell_type": "markdown",
      "metadata": {
        "id": "DM_DkeA2qjMC"
      },
      "source": [
        "## 🧪 Ejercicios de práctica: Web scraping con Python 🐍\n",
        "\n",
        "Trabajaremos con el sitio [http://books.toscrape.com/](http://books.toscrape.com/), una página que simula una tienda de libros. El objetivo será obtener información útil desde el código HTML usando `requests`, `BeautifulSoup` y expresiones regulares.\n",
        "\n",
        "---"
      ]
    },
    {
      "cell_type": "code",
      "execution_count": 7,
      "metadata": {
        "id": "AUbZC4oarnnn"
      },
      "outputs": [],
      "source": [
        "import re\n",
        "import requests\n",
        "from bs4 import BeautifulSoup\n",
        "import csv\n",
        "import pandas as pd"
      ]
    },
    {
      "cell_type": "markdown",
      "metadata": {
        "id": "_IBlBsZPqlVv"
      },
      "source": [
        "### 🧵 Ejercicio 1: Obtener el código HTML  \n",
        "**Objetivo:** Hacer una solicitud HTTP y visualizar el código fuente de la página."
      ]
    },
    {
      "cell_type": "code",
      "execution_count": 8,
      "metadata": {
        "id": "XwiU7ZbjqkZM",
        "outputId": "f174dbe2-9bd4-46b8-bcc3-44c2edea9682",
        "colab": {
          "base_uri": "https://localhost:8080/"
        }
      },
      "outputs": [
        {
          "output_type": "stream",
          "name": "stdout",
          "text": [
            "200\n",
            "<!DOCTYPE html>\n",
            "<!--[if lt IE 7]>      <html lang=\"en-us\" class=\"no-js lt-ie9 lt-ie8 lt-ie7\"> <![end\n"
          ]
        }
      ],
      "source": [
        "\n",
        "url = \"http://books.toscrape.com/\"\n",
        "res = requests.get(url)\n",
        "\n",
        "print(res.status_code)  # Debería imprimir 200\n",
        "print(res.text[:100])  # Imprime los primeros 1000 caracteres del HTML"
      ]
    },
    {
      "cell_type": "code",
      "execution_count": 5,
      "metadata": {
        "id": "ZXVmllw9Kau-"
      },
      "outputs": [],
      "source": [
        "with open('html_content.txt','w') as f:\n",
        "  f.write(res.text)\n",
        "\n"
      ]
    },
    {
      "cell_type": "markdown",
      "metadata": {
        "id": "OGgyH3I2q6UQ"
      },
      "source": [
        "### 🔖 Ejercicio 2: Buscar todos los títulos de los libros en la portada  \n",
        "**Objetivo:** Usar `BeautifulSoup` para extraer los títulos de todos los libros listados en la página de inicio.\n",
        "\n",
        "---"
      ]
    },
    {
      "cell_type": "code",
      "execution_count": 6,
      "metadata": {
        "colab": {
          "base_uri": "https://localhost:8080/"
        },
        "id": "ZroOuMuxrCYt",
        "outputId": "e94e4185-828f-4f9c-8fa1-9288142cd34c"
      },
      "outputs": [
        {
          "output_type": "stream",
          "name": "stdout",
          "text": [
            "A Light in the Attic\n",
            "Tipping the Velvet\n",
            "Soumission\n",
            "Sharp Objects\n",
            "Sapiens: A Brief History of Humankind\n",
            "The Requiem Red\n",
            "The Dirty Little Secrets of Getting Your Dream Job\n",
            "The Coming Woman: A Novel Based on the Life of the Infamous Feminist, Victoria Woodhull\n",
            "The Boys in the Boat: Nine Americans and Their Epic Quest for Gold at the 1936 Berlin Olympics\n",
            "The Black Maria\n",
            "Starving Hearts (Triangular Trade Trilogy, #1)\n",
            "Shakespeare's Sonnets\n",
            "Set Me Free\n",
            "Scott Pilgrim's Precious Little Life (Scott Pilgrim #1)\n",
            "Rip it Up and Start Again\n",
            "Our Band Could Be Your Life: Scenes from the American Indie Underground, 1981-1991\n",
            "Olio\n",
            "Mesaerion: The Best Science Fiction Stories 1800-1849\n",
            "Libertarianism for Beginners\n",
            "It's Only the Himalayas\n"
          ]
        }
      ],
      "source": [
        "\n",
        "soup = BeautifulSoup(res.text, \"lxml\")\n",
        "books = soup.find_all(\"h3\")\n",
        "\n",
        "for book in books:\n",
        "    print(book.find(\"a\")[\"title\"])\n",
        "    #print(book.text)"
      ]
    },
    {
      "cell_type": "markdown",
      "metadata": {
        "id": "706fEVCsrGGX"
      },
      "source": [
        "### 🎯 Ejercicio 3: Buscar libros con 5 estrellas  \n",
        "**Objetivo:** Filtrar elementos usando atributos de clase para identificar libros con calificación de 5 estrellas.\n"
      ]
    },
    {
      "cell_type": "code",
      "execution_count": null,
      "metadata": {
        "id": "1ZsVrtpprLcN",
        "outputId": "7fd8836c-a82c-45fb-e7f2-a0a88ac16f91"
      },
      "outputs": [
        {
          "name": "stdout",
          "output_type": "stream",
          "text": [
            "🌟 Sapiens: A Brief History of Humankind\n",
            "🌟 Set Me Free\n",
            "🌟 Scott Pilgrim's Precious Little Life (Scott Pilgrim #1)\n",
            "🌟 Rip it Up and Start Again\n"
          ]
        }
      ],
      "source": [
        "five_star_books = soup.find_all(\"p\", class_=\"star-rating Five\")\n",
        "\n",
        "for tag in five_star_books:\n",
        "    title = tag.find_next(\"h3\").find(\"a\")[\"title\"]\n",
        "    print(f\"🌟 {title}\")"
      ]
    },
    {
      "cell_type": "markdown",
      "metadata": {
        "id": "wv-EIUvxrYTV"
      },
      "source": [
        "### 💰 Ejercicio 4: Extraer precios usando expresiones regulares  \n",
        "**Objetivo:** Usar `re` para filtrar todos los precios que aparecen en el HTML."
      ]
    },
    {
      "cell_type": "markdown",
      "metadata": {
        "id": "zIxu3AvrKau_"
      },
      "source": [
        "Las **expresiones regulares** son herramientas muy útiles en programación que permiten buscar, identificar y extraer patrones específicos dentro de textos. Por ejemplo, puedes usarlas para encontrar precios, correos electrónicos o palabras clave dentro del código HTML de una página web. En el web scraping, las expresiones regulares ayudan a filtrar y limpiar la información obtenida, facilitando el análisis de los datos."
      ]
    },
    {
      "cell_type": "markdown",
      "metadata": {
        "id": "uQ5WgeMoKau_"
      },
      "source": [
        "| Carácter/Patrón | Explicación                                      | Ejemplo de uso                  |\n",
        "|-----------------|--------------------------------------------------|---------------------------------|\n",
        "| .               | Cualquier carácter excepto salto de línea         | `a.b` encuentra \"acb\", \"a9b\"    |\n",
        "| ^               | Inicio de línea                                  | `^Hola` encuentra \"Hola mundo\"  |\n",
        "| $               | Fin de línea                                     | `mundo$` encuentra \"Hola mundo\" |\n",
        "| *               | Cero o más repeticiones                          | `ab*c` encuentra \"ac\", \"abc\", \"abbc\" |\n",
        "| +               | Una o más repeticiones                           | `ab+c` encuentra \"abc\", \"abbc\"  |\n",
        "| ?               | Cero o una repetición (opcional)                 | `colou?r` encuentra \"color\", \"colour\" |\n",
        "| []              | Conjunto de caracteres                           | `[aeiou]` encuentra cualquier vocal |\n",
        "| [^]             | Cualquier carácter excepto los indicados          | `[^0-9]` encuentra no dígitos   |\n",
        "| {n}             | Exactamente n repeticiones                       | `a{3}` encuentra \"aaa\"          |\n",
        "| {n,}            | Al menos n repeticiones                          | `a{2,}` encuentra \"aa\", \"aaa\"   |\n",
        "| {n,m}           | Entre n y m repeticiones                         | `a{2,4}` encuentra \"aa\", \"aaa\", \"aaaa\" |\n",
        "| \\d              | Cualquier dígito (equivale a [0-9])              | `\\d+` encuentra \"123\" en \"abc123\" |\n",
        "| \\D              | Cualquier no dígito                              | `\\D+` encuentra \"abc\" en \"abc123\" |\n",
        "| \\w              | Cualquier carácter alfanumérico o guion bajo     | `\\w+` encuentra \"abc123\"        |\n",
        "| \\W              | Cualquier carácter no alfanumérico               | `\\W+` encuentra \"!\" en \"abc!\"   |\n",
        "| \\s              | Cualquier espacio en blanco                      | `\\s+` encuentra espacios, tabulaciones |\n",
        "| \\S              | Cualquier carácter que no sea espacio en blanco  | `\\S+` encuentra \"Hola\" en \"Hola mundo\" |\n",
        "| \\               | Carácter de escape para símbolos especiales      | `\\.` encuentra el punto \".\"     |\n",
        "| ( )             | Agrupación y captura                             | `(abc)+` encuentra \"abcabc\"     |\n",
        "| \\|              | Alternancia (o lógico)                           | `perro\\|gato` encuentra \"perro\" o \"gato\" |"
      ]
    },
    {
      "cell_type": "code",
      "execution_count": null,
      "metadata": {
        "id": "zQbUsFrkn_tk",
        "outputId": "f249ec2f-4c04-4bc5-f8d0-f7b30ea43239"
      },
      "outputs": [
        {
          "name": "stdout",
          "output_type": "stream",
          "text": [
            "['£51.77', '£53.74', '£50.10', '£47.82', '£54.23', '£22.65', '£33.34', '£17.93', '£22.60', '£52.15', '£13.99', '£20.66', '£17.46', '£52.29', '£35.02', '£57.25', '£23.88', '£37.59', '£51.33', '£45.17']\n"
          ]
        }
      ],
      "source": [
        "\n",
        "prices = re.findall(r\"£\\d+\\.\\d{2}\", res.text)\n",
        "print(prices)"
      ]
    },
    {
      "cell_type": "markdown",
      "metadata": {
        "id": "vWKogy4SrhVK"
      },
      "source": [
        "### 📦 Ejercicio 5: Combina título y precio  \n",
        "**Objetivo:** Crear un pequeño script que imprima título y precio de cada libro."
      ]
    },
    {
      "cell_type": "code",
      "execution_count": null,
      "metadata": {
        "colab": {
          "base_uri": "https://localhost:8080/"
        },
        "id": "CLhOD1ixrj_0",
        "outputId": "0b67a34a-99c9-4184-b202-32e02b260509"
      },
      "outputs": [
        {
          "name": "stdout",
          "output_type": "stream",
          "text": [
            "A Light in the Attic - Â£51.77\n",
            "Tipping the Velvet - Â£53.74\n",
            "Soumission - Â£50.10\n",
            "Sharp Objects - Â£47.82\n",
            "Sapiens: A Brief History of Humankind - Â£54.23\n",
            "The Requiem Red - Â£22.65\n",
            "The Dirty Little Secrets of Getting Your Dream Job - Â£33.34\n",
            "The Coming Woman: A Novel Based on the Life of the Infamous Feminist, Victoria Woodhull - Â£17.93\n",
            "The Boys in the Boat: Nine Americans and Their Epic Quest for Gold at the 1936 Berlin Olympics - Â£22.60\n",
            "The Black Maria - Â£52.15\n",
            "Starving Hearts (Triangular Trade Trilogy, #1) - Â£13.99\n",
            "Shakespeare's Sonnets - Â£20.66\n",
            "Set Me Free - Â£17.46\n",
            "Scott Pilgrim's Precious Little Life (Scott Pilgrim #1) - Â£52.29\n",
            "Rip it Up and Start Again - Â£35.02\n",
            "Our Band Could Be Your Life: Scenes from the American Indie Underground, 1981-1991 - Â£57.25\n",
            "Olio - Â£23.88\n",
            "Mesaerion: The Best Science Fiction Stories 1800-1849 - Â£37.59\n",
            "Libertarianism for Beginners - Â£51.33\n",
            "It's Only the Himalayas - Â£45.17\n"
          ]
        }
      ],
      "source": [
        "books = soup.find_all(\"article\", class_=\"product_pod\")\n",
        "\n",
        "for book in books:\n",
        "    title = book.h3.a[\"title\"]\n",
        "    price = book.find(\"p\", class_=\"price_color\").text\n",
        "    print(f\"{title} - {price}\")"
      ]
    },
    {
      "cell_type": "markdown",
      "metadata": {
        "id": "I90KU5Ozr0Q4"
      },
      "source": [
        "### 📂 Ejercicio 6: Obtener enlaces a detalles de cada libro  \n",
        "**Objetivo:** Extraer el atributo `href` de cada libro para obtener su URL individual.\n"
      ]
    },
    {
      "cell_type": "code",
      "execution_count": null,
      "metadata": {
        "colab": {
          "base_uri": "https://localhost:8080/"
        },
        "id": "umEqMmAOr0D9",
        "outputId": "fed1098e-834b-4f16-99cb-9cbad4f5b50c"
      },
      "outputs": [
        {
          "name": "stdout",
          "output_type": "stream",
          "text": [
            "http://books.toscrape.com/catalogue/a-light-in-the-attic_1000/index.html\n",
            "http://books.toscrape.com/catalogue/tipping-the-velvet_999/index.html\n",
            "http://books.toscrape.com/catalogue/soumission_998/index.html\n",
            "http://books.toscrape.com/catalogue/sharp-objects_997/index.html\n",
            "http://books.toscrape.com/catalogue/sapiens-a-brief-history-of-humankind_996/index.html\n",
            "http://books.toscrape.com/catalogue/the-requiem-red_995/index.html\n",
            "http://books.toscrape.com/catalogue/the-dirty-little-secrets-of-getting-your-dream-job_994/index.html\n",
            "http://books.toscrape.com/catalogue/the-coming-woman-a-novel-based-on-the-life-of-the-infamous-feminist-victoria-woodhull_993/index.html\n",
            "http://books.toscrape.com/catalogue/the-boys-in-the-boat-nine-americans-and-their-epic-quest-for-gold-at-the-1936-berlin-olympics_992/index.html\n",
            "http://books.toscrape.com/catalogue/the-black-maria_991/index.html\n",
            "http://books.toscrape.com/catalogue/starving-hearts-triangular-trade-trilogy-1_990/index.html\n",
            "http://books.toscrape.com/catalogue/shakespeares-sonnets_989/index.html\n",
            "http://books.toscrape.com/catalogue/set-me-free_988/index.html\n",
            "http://books.toscrape.com/catalogue/scott-pilgrims-precious-little-life-scott-pilgrim-1_987/index.html\n",
            "http://books.toscrape.com/catalogue/rip-it-up-and-start-again_986/index.html\n",
            "http://books.toscrape.com/catalogue/our-band-could-be-your-life-scenes-from-the-american-indie-underground-1981-1991_985/index.html\n",
            "http://books.toscrape.com/catalogue/olio_984/index.html\n",
            "http://books.toscrape.com/catalogue/mesaerion-the-best-science-fiction-stories-1800-1849_983/index.html\n",
            "http://books.toscrape.com/catalogue/libertarianism-for-beginners_982/index.html\n",
            "http://books.toscrape.com/catalogue/its-only-the-himalayas_981/index.html\n"
          ]
        }
      ],
      "source": [
        "base_url = \"http://books.toscrape.com/\"\n",
        "for book in books:\n",
        "    relative_link = book.h3.a[\"href\"]\n",
        "    print(base_url + relative_link.replace('../', '').strip())"
      ]
    },
    {
      "cell_type": "markdown",
      "metadata": {
        "id": "mZRY6wxdr3qn"
      },
      "source": [
        "### 🧹 Ejercicio 7: Filtrar libros con título que contenga una palabra clave  \n",
        "**Objetivo:** Usar regex para encontrar libros que contengan, por ejemplo, la palabra \"Secret\".\n"
      ]
    },
    {
      "cell_type": "code",
      "execution_count": null,
      "metadata": {
        "colab": {
          "base_uri": "https://localhost:8080/"
        },
        "id": "hcjIslSVr5o9",
        "outputId": "7a554a9e-50dc-4272-c71f-59f4d464e79d"
      },
      "outputs": [
        {
          "name": "stdout",
          "output_type": "stream",
          "text": [
            "📘 The Dirty Little Secrets of Getting Your Dream Job\n"
          ]
        }
      ],
      "source": [
        "pattern = re.compile(r\"secret\", re.IGNORECASE)\n",
        "\n",
        "for book in books:\n",
        "    title = book.h3.a[\"title\"]\n",
        "    if pattern.search(title):\n",
        "        print(f\"📘 {title}\")"
      ]
    },
    {
      "cell_type": "markdown",
      "metadata": {
        "id": "uS1-ZxmTr-xH"
      },
      "source": [
        "### 🔢 Ejercicio 8: Contar cuántos libros tienen 3, 4 o 5 estrellas  \n",
        "**Objetivo:** Contar y clasificar libros según la cantidad de estrellas.\n"
      ]
    },
    {
      "cell_type": "code",
      "execution_count": null,
      "metadata": {
        "colab": {
          "base_uri": "https://localhost:8080/"
        },
        "id": "-I1NqzkKr_Z_",
        "outputId": "46767be7-9b42-4bc0-8a5c-184cb9b7f020"
      },
      "outputs": [
        {
          "name": "stdout",
          "output_type": "stream",
          "text": [
            "⭐ Three stars: 3 libros\n",
            "⭐ Four stars: 4 libros\n",
            "⭐ Five stars: 4 libros\n"
          ]
        }
      ],
      "source": [
        "ratings = [\"Three\", \"Four\", \"Five\"]\n",
        "for rating in ratings:\n",
        "    count = len(soup.find_all(\"p\", class_=\"star-rating \" + rating))\n",
        "    print(f\"⭐ {rating} stars: {count} libros\")"
      ]
    },
    {
      "cell_type": "markdown",
      "metadata": {
        "id": "_VPEmXgssBcs"
      },
      "source": [
        "### 📝 Ejercicio 9: Guardar los títulos y precios en un archivo CSV  \n",
        "**Objetivo:** Practicar exportación de datos.\n"
      ]
    },
    {
      "cell_type": "code",
      "execution_count": null,
      "metadata": {
        "id": "3S3jVn96sDk1"
      },
      "outputs": [],
      "source": [
        "with open(\"libros.csv\", mode=\"w\", newline=\"\") as file:\n",
        "    writer = csv.writer(file)\n",
        "    writer.writerow([\"Título\", \"Precio\"])\n",
        "    for book in books:\n",
        "        title = book.h3.a[\"title\"]\n",
        "        price = book.find(\"p\", class_=\"price_color\").text\n",
        "        writer.writerow([title, price])"
      ]
    },
    {
      "cell_type": "markdown",
      "metadata": {
        "id": "71bJJlg3toBx"
      },
      "source": [
        "### 🧮 Ejercicio 10: Convertir los datos en un DataFrame  \n",
        "**Objetivo:** Crear un `DataFrame` con columnas para título, precio y calificación.\n"
      ]
    },
    {
      "cell_type": "code",
      "execution_count": null,
      "metadata": {
        "colab": {
          "base_uri": "https://localhost:8080/",
          "height": 676
        },
        "id": "faTiiismtP96",
        "outputId": "748fe0b1-c435-4a6d-b1e5-4d6b36d8f6dd"
      },
      "outputs": [
        {
          "data": {
            "application/vnd.microsoft.datawrangler.viewer.v0+json": {
              "columns": [
                {
                  "name": "index",
                  "rawType": "int64",
                  "type": "integer"
                },
                {
                  "name": "Título",
                  "rawType": "object",
                  "type": "string"
                },
                {
                  "name": "Precio",
                  "rawType": "object",
                  "type": "string"
                },
                {
                  "name": "Estrellas",
                  "rawType": "object",
                  "type": "string"
                }
              ],
              "ref": "a4df3fc3-0826-45c9-a08f-3db365611961",
              "rows": [
                [
                  "0",
                  "A Light in the Attic",
                  "51.77",
                  "Three"
                ],
                [
                  "1",
                  "Tipping the Velvet",
                  "53.74",
                  "One"
                ],
                [
                  "2",
                  "Soumission",
                  "50.10",
                  "One"
                ],
                [
                  "3",
                  "Sharp Objects",
                  "47.82",
                  "Four"
                ],
                [
                  "4",
                  "Sapiens: A Brief History of Humankind",
                  "54.23",
                  "Five"
                ],
                [
                  "5",
                  "The Requiem Red",
                  "22.65",
                  "One"
                ],
                [
                  "6",
                  "The Dirty Little Secrets of Getting Your Dream Job",
                  "33.34",
                  "Four"
                ],
                [
                  "7",
                  "The Coming Woman: A Novel Based on the Life of the Infamous Feminist, Victoria Woodhull",
                  "17.93",
                  "Three"
                ],
                [
                  "8",
                  "The Boys in the Boat: Nine Americans and Their Epic Quest for Gold at the 1936 Berlin Olympics",
                  "22.60",
                  "Four"
                ],
                [
                  "9",
                  "The Black Maria",
                  "52.15",
                  "One"
                ],
                [
                  "10",
                  "Starving Hearts (Triangular Trade Trilogy, #1)",
                  "13.99",
                  "Two"
                ],
                [
                  "11",
                  "Shakespeare's Sonnets",
                  "20.66",
                  "Four"
                ],
                [
                  "12",
                  "Set Me Free",
                  "17.46",
                  "Five"
                ],
                [
                  "13",
                  "Scott Pilgrim's Precious Little Life (Scott Pilgrim #1)",
                  "52.29",
                  "Five"
                ],
                [
                  "14",
                  "Rip it Up and Start Again",
                  "35.02",
                  "Five"
                ],
                [
                  "15",
                  "Our Band Could Be Your Life: Scenes from the American Indie Underground, 1981-1991",
                  "57.25",
                  "Three"
                ],
                [
                  "16",
                  "Olio",
                  "23.88",
                  "One"
                ],
                [
                  "17",
                  "Mesaerion: The Best Science Fiction Stories 1800-1849",
                  "37.59",
                  "One"
                ],
                [
                  "18",
                  "Libertarianism for Beginners",
                  "51.33",
                  "Two"
                ],
                [
                  "19",
                  "It's Only the Himalayas",
                  "45.17",
                  "Two"
                ]
              ],
              "shape": {
                "columns": 3,
                "rows": 20
              }
            },
            "text/html": [
              "<div>\n",
              "<style scoped>\n",
              "    .dataframe tbody tr th:only-of-type {\n",
              "        vertical-align: middle;\n",
              "    }\n",
              "\n",
              "    .dataframe tbody tr th {\n",
              "        vertical-align: top;\n",
              "    }\n",
              "\n",
              "    .dataframe thead th {\n",
              "        text-align: right;\n",
              "    }\n",
              "</style>\n",
              "<table border=\"1\" class=\"dataframe\">\n",
              "  <thead>\n",
              "    <tr style=\"text-align: right;\">\n",
              "      <th></th>\n",
              "      <th>Título</th>\n",
              "      <th>Precio</th>\n",
              "      <th>Estrellas</th>\n",
              "    </tr>\n",
              "  </thead>\n",
              "  <tbody>\n",
              "    <tr>\n",
              "      <th>0</th>\n",
              "      <td>A Light in the Attic</td>\n",
              "      <td>51.77</td>\n",
              "      <td>Three</td>\n",
              "    </tr>\n",
              "    <tr>\n",
              "      <th>1</th>\n",
              "      <td>Tipping the Velvet</td>\n",
              "      <td>53.74</td>\n",
              "      <td>One</td>\n",
              "    </tr>\n",
              "    <tr>\n",
              "      <th>2</th>\n",
              "      <td>Soumission</td>\n",
              "      <td>50.10</td>\n",
              "      <td>One</td>\n",
              "    </tr>\n",
              "    <tr>\n",
              "      <th>3</th>\n",
              "      <td>Sharp Objects</td>\n",
              "      <td>47.82</td>\n",
              "      <td>Four</td>\n",
              "    </tr>\n",
              "    <tr>\n",
              "      <th>4</th>\n",
              "      <td>Sapiens: A Brief History of Humankind</td>\n",
              "      <td>54.23</td>\n",
              "      <td>Five</td>\n",
              "    </tr>\n",
              "    <tr>\n",
              "      <th>5</th>\n",
              "      <td>The Requiem Red</td>\n",
              "      <td>22.65</td>\n",
              "      <td>One</td>\n",
              "    </tr>\n",
              "    <tr>\n",
              "      <th>6</th>\n",
              "      <td>The Dirty Little Secrets of Getting Your Dream...</td>\n",
              "      <td>33.34</td>\n",
              "      <td>Four</td>\n",
              "    </tr>\n",
              "    <tr>\n",
              "      <th>7</th>\n",
              "      <td>The Coming Woman: A Novel Based on the Life of...</td>\n",
              "      <td>17.93</td>\n",
              "      <td>Three</td>\n",
              "    </tr>\n",
              "    <tr>\n",
              "      <th>8</th>\n",
              "      <td>The Boys in the Boat: Nine Americans and Their...</td>\n",
              "      <td>22.60</td>\n",
              "      <td>Four</td>\n",
              "    </tr>\n",
              "    <tr>\n",
              "      <th>9</th>\n",
              "      <td>The Black Maria</td>\n",
              "      <td>52.15</td>\n",
              "      <td>One</td>\n",
              "    </tr>\n",
              "    <tr>\n",
              "      <th>10</th>\n",
              "      <td>Starving Hearts (Triangular Trade Trilogy, #1)</td>\n",
              "      <td>13.99</td>\n",
              "      <td>Two</td>\n",
              "    </tr>\n",
              "    <tr>\n",
              "      <th>11</th>\n",
              "      <td>Shakespeare's Sonnets</td>\n",
              "      <td>20.66</td>\n",
              "      <td>Four</td>\n",
              "    </tr>\n",
              "    <tr>\n",
              "      <th>12</th>\n",
              "      <td>Set Me Free</td>\n",
              "      <td>17.46</td>\n",
              "      <td>Five</td>\n",
              "    </tr>\n",
              "    <tr>\n",
              "      <th>13</th>\n",
              "      <td>Scott Pilgrim's Precious Little Life (Scott Pi...</td>\n",
              "      <td>52.29</td>\n",
              "      <td>Five</td>\n",
              "    </tr>\n",
              "    <tr>\n",
              "      <th>14</th>\n",
              "      <td>Rip it Up and Start Again</td>\n",
              "      <td>35.02</td>\n",
              "      <td>Five</td>\n",
              "    </tr>\n",
              "    <tr>\n",
              "      <th>15</th>\n",
              "      <td>Our Band Could Be Your Life: Scenes from the A...</td>\n",
              "      <td>57.25</td>\n",
              "      <td>Three</td>\n",
              "    </tr>\n",
              "    <tr>\n",
              "      <th>16</th>\n",
              "      <td>Olio</td>\n",
              "      <td>23.88</td>\n",
              "      <td>One</td>\n",
              "    </tr>\n",
              "    <tr>\n",
              "      <th>17</th>\n",
              "      <td>Mesaerion: The Best Science Fiction Stories 18...</td>\n",
              "      <td>37.59</td>\n",
              "      <td>One</td>\n",
              "    </tr>\n",
              "    <tr>\n",
              "      <th>18</th>\n",
              "      <td>Libertarianism for Beginners</td>\n",
              "      <td>51.33</td>\n",
              "      <td>Two</td>\n",
              "    </tr>\n",
              "    <tr>\n",
              "      <th>19</th>\n",
              "      <td>It's Only the Himalayas</td>\n",
              "      <td>45.17</td>\n",
              "      <td>Two</td>\n",
              "    </tr>\n",
              "  </tbody>\n",
              "</table>\n",
              "</div>"
            ],
            "text/plain": [
              "                                               Título Precio Estrellas\n",
              "0                                A Light in the Attic  51.77     Three\n",
              "1                                  Tipping the Velvet  53.74       One\n",
              "2                                          Soumission  50.10       One\n",
              "3                                       Sharp Objects  47.82      Four\n",
              "4               Sapiens: A Brief History of Humankind  54.23      Five\n",
              "5                                     The Requiem Red  22.65       One\n",
              "6   The Dirty Little Secrets of Getting Your Dream...  33.34      Four\n",
              "7   The Coming Woman: A Novel Based on the Life of...  17.93     Three\n",
              "8   The Boys in the Boat: Nine Americans and Their...  22.60      Four\n",
              "9                                     The Black Maria  52.15       One\n",
              "10     Starving Hearts (Triangular Trade Trilogy, #1)  13.99       Two\n",
              "11                              Shakespeare's Sonnets  20.66      Four\n",
              "12                                        Set Me Free  17.46      Five\n",
              "13  Scott Pilgrim's Precious Little Life (Scott Pi...  52.29      Five\n",
              "14                          Rip it Up and Start Again  35.02      Five\n",
              "15  Our Band Could Be Your Life: Scenes from the A...  57.25     Three\n",
              "16                                               Olio  23.88       One\n",
              "17  Mesaerion: The Best Science Fiction Stories 18...  37.59       One\n",
              "18                       Libertarianism for Beginners  51.33       Two\n",
              "19                            It's Only the Himalayas  45.17       Two"
            ]
          },
          "execution_count": 12,
          "metadata": {},
          "output_type": "execute_result"
        }
      ],
      "source": [
        "data = []\n",
        "for book in books:\n",
        "    title = book.h3.a[\"title\"]\n",
        "    price = book.find(\"p\", class_=\"price_color\").text\n",
        "    price =  re.sub(r'[^0-9.]', '', price)\n",
        "    rating_class = book.find(\"p\")[\"class\"]\n",
        "    rating = rating_class[1] if len(rating_class) > 1 else \"No rating\"\n",
        "    data.append({\"Título\": title, \"Precio\": price, \"Estrellas\": rating})\n",
        "\n",
        "df = pd.DataFrame(data)\n",
        "df"
      ]
    },
    {
      "cell_type": "markdown",
      "metadata": {
        "id": "pLvX0Hx5dfse"
      },
      "source": [
        "\n",
        "### 📊 Ejercicio 10: Calcular el precio promedio de los libros de la portada  \n",
        "**Objetivo:** Convertir los precios a float y calcular el promedio."
      ]
    },
    {
      "cell_type": "code",
      "execution_count": null,
      "metadata": {
        "id": "ZfUMy-3pKavB",
        "outputId": "3737c62e-38ec-4787-fc83-089bdfd840e7"
      },
      "outputs": [
        {
          "data": {
            "application/vnd.microsoft.datawrangler.viewer.v0+json": {
              "columns": [
                {
                  "name": "Estrellas",
                  "rawType": "object",
                  "type": "string"
                },
                {
                  "name": "Precio",
                  "rawType": "float64",
                  "type": "float"
                }
              ],
              "ref": "6923dd88-0b9f-46ee-85b4-0fdf9a69e03d",
              "rows": [
                [
                  "Five",
                  "39.75"
                ],
                [
                  "Four",
                  "31.105"
                ],
                [
                  "One",
                  "40.01833333333334"
                ],
                [
                  "Three",
                  "42.31666666666667"
                ],
                [
                  "Two",
                  "36.830000000000005"
                ]
              ],
              "shape": {
                "columns": 1,
                "rows": 5
              }
            },
            "text/plain": [
              "Estrellas\n",
              "Five     39.750000\n",
              "Four     31.105000\n",
              "One      40.018333\n",
              "Three    42.316667\n",
              "Two      36.830000\n",
              "Name: Precio, dtype: float64"
            ]
          },
          "execution_count": 13,
          "metadata": {},
          "output_type": "execute_result"
        }
      ],
      "source": [
        "df['Precio'] = pd.to_numeric(df['Precio'], errors='coerce')\n",
        "(\n",
        "    df.groupby('Estrellas')['Precio'].mean()\n",
        ")"
      ]
    },
    {
      "cell_type": "markdown",
      "metadata": {
        "id": "KhtSkPV2eI-g"
      },
      "source": [
        "# API's"
      ]
    },
    {
      "cell_type": "markdown",
      "metadata": {
        "id": "Lwcn2W5weGgm"
      },
      "source": [
        "**🔗 ¿Qué es una API?**  \n",
        "Una API (Interfaz de Programación de Aplicaciones) es un conjunto de reglas que permite que dos programas se comuniquen entre sí. En el contexto del análisis de datos, las APIs permiten acceder a información alojada en servidores externos de forma estructurada, rápida y segura, sin tener que extraer datos directamente desde el HTML de una página web. Usar una API es como hacer una solicitud en un restaurante: tú pides (por ejemplo, el clima de hoy) y el servidor te responde con exactamente lo que necesitas, en un formato limpio como JSON o XML.\n",
        "\n",
        "---\n",
        "\n",
        "**📋 Tipos de llamadas HTTP comunes en una API**\n",
        "\n",
        "| Método | Descripción | Uso común |\n",
        "|--------|-------------|-----------|\n",
        "| `GET`    | Solicita datos desde el servidor | Obtener información (lectura) |\n",
        "| `POST`   | Envía datos al servidor | Crear un nuevo recurso |\n",
        "| `PUT`    | Reemplaza un recurso existente | Actualizar por completo un dato |\n",
        "| `PATCH`  | Modifica parcialmente un recurso | Editar parte de la información |\n",
        "| `DELETE` | Elimina un recurso | Borrar datos del servidor |\n"
      ]
    },
    {
      "cell_type": "markdown",
      "metadata": {
        "id": "P2K72_GzelFc"
      },
      "source": [
        "**🗂️ ¿Qué es el formato JSON y por qué es tan usado en APIs?**  \n",
        "JSON (JavaScript Object Notation) es un formato ligero y estructurado para intercambiar datos. Se basa en pares clave-valor, muy parecido a los diccionarios en Python o los objetos en JavaScript. Su sintaxis sencilla lo hace fácil de leer para los humanos y muy eficiente para las máquinas. 🌍\n",
        "\n",
        "JSON se ha convertido en el formato preferido para las respuestas de muchas APIs porque permite transmitir información de forma clara, compacta y estandarizada. Cuando haces una llamada a una API, por ejemplo para obtener datos del clima o los detalles de un producto, el servidor suele responder con un objeto JSON. Esto facilita el procesamiento de los datos en aplicaciones web, móviles o scripts de análisis. Su amplia compatibilidad con casi todos los lenguajes de programación modernos ha hecho que JSON sea adoptado de manera masiva en el desarrollo de software y análisis de datos. 🔄📡\n"
      ]
    },
    {
      "cell_type": "markdown",
      "metadata": {
        "id": "4hlZ-XfQfoS_"
      },
      "source": [
        "## 🧪 Práctica con JSONPlaceholder API (GET y POST)\n",
        "\n",
        "Trabajaremos con la API pública [https://jsonplaceholder.typicode.com](https://jsonplaceholder.typicode.com), que simula el comportamiento de una API REST real. Los recursos disponibles incluyen `posts`, `comments`, `users`, entre otros."
      ]
    },
    {
      "cell_type": "markdown",
      "metadata": {
        "id": "idRqaFzTfvtA"
      },
      "source": [
        "### 🔍 Ejercicio 1: Obtener todas las publicaciones\n",
        "**Objetivo:** Usar `requests.get()` para obtener una lista de publicaciones.\n",
        "\n"
      ]
    },
    {
      "cell_type": "code",
      "execution_count": null,
      "metadata": {
        "colab": {
          "base_uri": "https://localhost:8080/"
        },
        "id": "KAglkwG_f4jU",
        "outputId": "989ef8d7-898f-4928-e3c6-178b79304fc9"
      },
      "outputs": [
        {
          "name": "stdout",
          "output_type": "stream",
          "text": [
            "200\n",
            "[{'userId': 1, 'id': 1, 'title': 'sunt aut facere repellat provident occaecati excepturi optio reprehenderit', 'body': 'quia et suscipit\\nsuscipit recusandae consequuntur expedita et cum\\nreprehenderit molestiae ut ut quas totam\\nnostrum rerum est autem sunt rem eveniet architecto'}, {'userId': 1, 'id': 2, 'title': 'qui est esse', 'body': 'est rerum tempore vitae\\nsequi sint nihil reprehenderit dolor beatae ea dolores neque\\nfugiat blanditiis voluptate porro vel nihil molestiae ut reiciendis\\nqui aperiam non debitis possimus qui neque nisi nulla'}, {'userId': 1, 'id': 3, 'title': 'ea molestias quasi exercitationem repellat qui ipsa sit aut', 'body': 'et iusto sed quo iure\\nvoluptatem occaecati omnis eligendi aut ad\\nvoluptatem doloribus vel accusantium quis pariatur\\nmolestiae porro eius odio et labore et velit aut'}]\n"
          ]
        }
      ],
      "source": [
        "\n",
        "url = \"https://jsonplaceholder.typicode.com/posts\"\n",
        "res = requests.get(url)\n",
        "\n",
        "print(res.status_code)\n",
        "print(res.json()[:3])  # Muestra las primeras 3 publicaciones"
      ]
    },
    {
      "cell_type": "markdown",
      "metadata": {
        "id": "-71PGaaPf_TE"
      },
      "source": [
        "### 💬 Ejercicio 3: Obtener todos los comentarios de una publicación  \n",
        "**Objetivo:** Usar parámetros en la URL para filtrar comentarios."
      ]
    },
    {
      "cell_type": "code",
      "execution_count": null,
      "metadata": {
        "colab": {
          "base_uri": "https://localhost:8080/"
        },
        "id": "mfrqzHFdgBsh",
        "outputId": "18c85b8a-c43a-4cc8-ced3-30f0a6aef20d"
      },
      "outputs": [
        {
          "name": "stdout",
          "output_type": "stream",
          "text": [
            "Eliseo@gardner.biz - laudantium enim quasi est quidem magnam  ...\n",
            "Jayne_Kuhic@sydney.com - est natus enim nihil est dolore omnis vo ...\n",
            "Nikita@garfield.biz - quia molestiae reprehenderit quasi asper ...\n",
            "Lew@alysha.tv - non et atque\n",
            "occaecati deserunt quas acc ...\n",
            "Hayden@althea.biz - harum non quasi et ratione\n",
            "tempore iure  ...\n"
          ]
        }
      ],
      "source": [
        "params = {\"postId\": 1}\n",
        "res = requests.get(\"https://jsonplaceholder.typicode.com/comments\", params=params)\n",
        "\n",
        "for comment in res.json():\n",
        "    print(comment[\"email\"], \"-\", comment[\"body\"][:40], \"...\")"
      ]
    },
    {
      "cell_type": "markdown",
      "metadata": {
        "id": "X5_UQi_LgC8L"
      },
      "source": [
        "### 📝 Ejercicio 4: Crear una nueva publicación (POST)  \n",
        "**Objetivo:** Simular la creación de un post usando `requests.post()`."
      ]
    },
    {
      "cell_type": "code",
      "execution_count": null,
      "metadata": {
        "colab": {
          "base_uri": "https://localhost:8080/"
        },
        "id": "kvU5HQeSgFO6",
        "outputId": "a6ba1118-d54a-4bf8-d15b-adc0f11ab17f"
      },
      "outputs": [
        {
          "name": "stdout",
          "output_type": "stream",
          "text": [
            "201\n",
            "{'title': 'Mi primer post', 'body': 'Este es un post de prueba para la clase.', 'userId': 1, 'id': 101}\n"
          ]
        }
      ],
      "source": [
        "payload = {\n",
        "    \"title\": \"Mi primer post\",\n",
        "    \"body\": \"Este es un post de prueba para la clase.\",\n",
        "    \"userId\": 1\n",
        "}\n",
        "\n",
        "res = requests.post(\"https://jsonplaceholder.typicode.com/posts\", json=payload)\n",
        "print(res.status_code)\n",
        "print(res.json())"
      ]
    },
    {
      "cell_type": "markdown",
      "metadata": {
        "id": "q7xz5zhZgILW"
      },
      "source": [
        "### 🧪 Ejercicio 5: Crear un comentario en una publicación  \n",
        "**Objetivo:** Simular un comentario nuevo con `POST`."
      ]
    },
    {
      "cell_type": "code",
      "execution_count": null,
      "metadata": {
        "colab": {
          "base_uri": "https://localhost:8080/"
        },
        "id": "t89ja15hgKPv",
        "outputId": "769e6fce-f783-4c07-d670-1a8d0a47a801"
      },
      "outputs": [
        {
          "name": "stdout",
          "output_type": "stream",
          "text": [
            "{'postId': 1, 'name': 'Comentario de prueba', 'email': 'ejemplo@email.com', 'body': '¡Este es un comentario para practicar!', 'id': 501}\n"
          ]
        }
      ],
      "source": [
        "payload = {\n",
        "    \"postId\": 1,\n",
        "    \"name\": \"Comentario de prueba\",\n",
        "    \"email\": \"ejemplo@email.com\",\n",
        "    \"body\": \"¡Este es un comentario para practicar!\"\n",
        "}\n",
        "\n",
        "res = requests.post(\"https://jsonplaceholder.typicode.com/comments\", json=payload)\n",
        "print(res.json())"
      ]
    },
    {
      "cell_type": "markdown",
      "metadata": {
        "id": "x4_9CRAfgPdZ"
      },
      "source": [
        "### 🗃️ Ejercicio 6: Extraer publicaciones y convertirlas a DataFrame  \n",
        "**Objetivo:** Obtener publicaciones de un usuario y convertirlas en un DataFrame."
      ]
    },
    {
      "cell_type": "code",
      "execution_count": null,
      "metadata": {
        "colab": {
          "base_uri": "https://localhost:8080/",
          "height": 206
        },
        "id": "9pmWh0rIgO7L",
        "outputId": "12c3e99e-b1e9-4b44-bd2c-d9efbc5208f2"
      },
      "outputs": [
        {
          "data": {
            "application/vnd.microsoft.datawrangler.viewer.v0+json": {
              "columns": [
                {
                  "name": "index",
                  "rawType": "int64",
                  "type": "integer"
                },
                {
                  "name": "userId",
                  "rawType": "int64",
                  "type": "integer"
                },
                {
                  "name": "id",
                  "rawType": "int64",
                  "type": "integer"
                },
                {
                  "name": "title",
                  "rawType": "object",
                  "type": "string"
                },
                {
                  "name": "body",
                  "rawType": "object",
                  "type": "string"
                }
              ],
              "ref": "8c1621e8-df14-48b9-8ba4-10aefe5c322c",
              "rows": [
                [
                  "0",
                  "2",
                  "11",
                  "et ea vero quia laudantium autem",
                  "delectus reiciendis molestiae occaecati non minima eveniet qui voluptatibus\naccusamus in eum beatae sit\nvel qui neque voluptates ut commodi qui incidunt\nut animi commodi"
                ],
                [
                  "1",
                  "2",
                  "12",
                  "in quibusdam tempore odit est dolorem",
                  "itaque id aut magnam\npraesentium quia et ea odit et ea voluptas et\nsapiente quia nihil amet occaecati quia id voluptatem\nincidunt ea est distinctio odio"
                ],
                [
                  "2",
                  "2",
                  "13",
                  "dolorum ut in voluptas mollitia et saepe quo animi",
                  "aut dicta possimus sint mollitia voluptas commodi quo doloremque\niste corrupti reiciendis voluptatem eius rerum\nsit cumque quod eligendi laborum minima\nperferendis recusandae assumenda consectetur porro architecto ipsum ipsam"
                ],
                [
                  "3",
                  "2",
                  "14",
                  "voluptatem eligendi optio",
                  "fuga et accusamus dolorum perferendis illo voluptas\nnon doloremque neque facere\nad qui dolorum molestiae beatae\nsed aut voluptas totam sit illum"
                ],
                [
                  "4",
                  "2",
                  "15",
                  "eveniet quod temporibus",
                  "reprehenderit quos placeat\nvelit minima officia dolores impedit repudiandae molestiae nam\nvoluptas recusandae quis delectus\nofficiis harum fugiat vitae"
                ]
              ],
              "shape": {
                "columns": 4,
                "rows": 5
              }
            },
            "text/html": [
              "<div>\n",
              "<style scoped>\n",
              "    .dataframe tbody tr th:only-of-type {\n",
              "        vertical-align: middle;\n",
              "    }\n",
              "\n",
              "    .dataframe tbody tr th {\n",
              "        vertical-align: top;\n",
              "    }\n",
              "\n",
              "    .dataframe thead th {\n",
              "        text-align: right;\n",
              "    }\n",
              "</style>\n",
              "<table border=\"1\" class=\"dataframe\">\n",
              "  <thead>\n",
              "    <tr style=\"text-align: right;\">\n",
              "      <th></th>\n",
              "      <th>userId</th>\n",
              "      <th>id</th>\n",
              "      <th>title</th>\n",
              "      <th>body</th>\n",
              "    </tr>\n",
              "  </thead>\n",
              "  <tbody>\n",
              "    <tr>\n",
              "      <th>0</th>\n",
              "      <td>2</td>\n",
              "      <td>11</td>\n",
              "      <td>et ea vero quia laudantium autem</td>\n",
              "      <td>delectus reiciendis molestiae occaecati non mi...</td>\n",
              "    </tr>\n",
              "    <tr>\n",
              "      <th>1</th>\n",
              "      <td>2</td>\n",
              "      <td>12</td>\n",
              "      <td>in quibusdam tempore odit est dolorem</td>\n",
              "      <td>itaque id aut magnam\\npraesentium quia et ea o...</td>\n",
              "    </tr>\n",
              "    <tr>\n",
              "      <th>2</th>\n",
              "      <td>2</td>\n",
              "      <td>13</td>\n",
              "      <td>dolorum ut in voluptas mollitia et saepe quo a...</td>\n",
              "      <td>aut dicta possimus sint mollitia voluptas comm...</td>\n",
              "    </tr>\n",
              "    <tr>\n",
              "      <th>3</th>\n",
              "      <td>2</td>\n",
              "      <td>14</td>\n",
              "      <td>voluptatem eligendi optio</td>\n",
              "      <td>fuga et accusamus dolorum perferendis illo vol...</td>\n",
              "    </tr>\n",
              "    <tr>\n",
              "      <th>4</th>\n",
              "      <td>2</td>\n",
              "      <td>15</td>\n",
              "      <td>eveniet quod temporibus</td>\n",
              "      <td>reprehenderit quos placeat\\nvelit minima offic...</td>\n",
              "    </tr>\n",
              "  </tbody>\n",
              "</table>\n",
              "</div>"
            ],
            "text/plain": [
              "   userId  id                                              title  \\\n",
              "0       2  11                   et ea vero quia laudantium autem   \n",
              "1       2  12              in quibusdam tempore odit est dolorem   \n",
              "2       2  13  dolorum ut in voluptas mollitia et saepe quo a...   \n",
              "3       2  14                          voluptatem eligendi optio   \n",
              "4       2  15                            eveniet quod temporibus   \n",
              "\n",
              "                                                body  \n",
              "0  delectus reiciendis molestiae occaecati non mi...  \n",
              "1  itaque id aut magnam\\npraesentium quia et ea o...  \n",
              "2  aut dicta possimus sint mollitia voluptas comm...  \n",
              "3  fuga et accusamus dolorum perferendis illo vol...  \n",
              "4  reprehenderit quos placeat\\nvelit minima offic...  "
            ]
          },
          "execution_count": 18,
          "metadata": {},
          "output_type": "execute_result"
        }
      ],
      "source": [
        "\n",
        "params = {\"userId\": 2}\n",
        "res = requests.get(\"https://jsonplaceholder.typicode.com/posts\", params=params)\n",
        "posts = res.json()\n",
        "\n",
        "df = pd.DataFrame(posts)\n",
        "df.head()"
      ]
    },
    {
      "cell_type": "markdown",
      "metadata": {
        "id": "1f4JyAXDKavF"
      },
      "source": [
        "## En resumen en esta sesion revisamos:\n",
        "\n",
        "\n",
        "1. **Introducción a la minería de datos web:**  \n",
        "   Aprendiste qué es la minería de datos web, su importancia y cómo puede ayudarte a obtener información valiosa de páginas y APIs.\n",
        "\n",
        "2. **Estructura y etiquetas HTML:**  \n",
        "   Identificaste los elementos principales del HTML (como `<h1>`, `<p>`, `<a>`, `<table>`, etc.) que facilitan la extracción de datos relevantes en el web scraping.\n",
        "\n",
        "3. **Web scraping con Python:**  \n",
        "   Practicaste cómo usar `requests` y `BeautifulSoup` para recolectar, filtrar y organizar información desde sitios web, incluyendo el uso de expresiones regulares para limpiar datos.\n",
        "\n",
        "4. **Interacción con APIs REST:**  \n",
        "   Aprendiste a realizar peticiones HTTP (`GET`, `POST`) a APIs, a manejar respuestas en formato JSON y a integrar estos datos en DataFrames para su análisis.\n",
        "\n",
        "5. **Ejercicios prácticos y automatización:**  \n",
        "   Realizaste ejercicios para extraer títulos, precios, calificaciones y enlaces de libros, así como para guardar y analizar la información obtenida, aplicando todo lo aprendido en casos reales.\n",
        "\n"
      ]
    },
    {
      "cell_type": "markdown",
      "metadata": {
        "id": "I8TNtl20KavF"
      },
      "source": [
        "## 🚀 Para seguir aprendiendo :\n",
        "\n",
        "---\n",
        "\n",
        "- 📚 Vuelve a revisar este notebook y trata resolver por tu cuenta el proyecto nuevamente\n",
        "- 💬 Recuerda que en Discord puedes dejar todos tus comentarios y dudas sobre el contenido del sprint en [Sprint 8](https://discord.com/channels/1081207584104656986/1270074133648113694).\n",
        "    - 📝 Si tienes preguntas sobre tu proyecto, usa el canal `#project` para recibir ayuda y compartir ideas.\n",
        "    - 🤝 Aprovecha el espacio de `CoLearning` para aclarar tus dudas junto con otros estudiantes e instructores: [Co-Learning](https://discord.com/channels/1081207584104656986/1197953851391746119).\n",
        "- 📅 ¿Necesitas ayuda personalizada? Puedes agendar una sesión `1:1` conmigo aquí: [1:1 Roman Castillo](https://scheduler.zoom.us/roman-castillo/1-1-roman-castillo).\n",
        "\n",
        "- Por último hazme paro y responde la encuesta al final de la sesión, me sirve para poder ayudarte mejor\n",
        "\n",
        "¡Sigue practicando y no dudes en pedir apoyo cuando lo necesites! 💪✨"
      ]
    }
  ],
  "metadata": {
    "colab": {
      "provenance": [],
      "toc_visible": true,
      "include_colab_link": true
    },
    "kernelspec": {
      "display_name": ".venv",
      "language": "python",
      "name": "python3"
    },
    "language_info": {
      "codemirror_mode": {
        "name": "ipython",
        "version": 3
      },
      "file_extension": ".py",
      "mimetype": "text/x-python",
      "name": "python",
      "nbconvert_exporter": "python",
      "pygments_lexer": "ipython3",
      "version": "3.12.0"
    }
  },
  "nbformat": 4,
  "nbformat_minor": 0
}