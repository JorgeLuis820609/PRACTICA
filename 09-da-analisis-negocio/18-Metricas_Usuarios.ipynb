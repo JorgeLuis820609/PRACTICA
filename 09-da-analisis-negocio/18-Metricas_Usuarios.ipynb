{
  "cells": [
    {
      "cell_type": "markdown",
      "id": "3a0d84b8",
      "metadata": {
        "id": "3a0d84b8"
      },
      "source": [
        "# 📊 Fundamentos de métricas y evaluación de usuarios\n"
      ]
    },
    {
      "cell_type": "markdown",
      "id": "9e381fe5",
      "metadata": {
        "id": "9e381fe5"
      },
      "source": [
        "## 🎯 Objetivo de la sesión\n",
        "\n",
        "* Comprender las métricas clave para evaluar el desempeño del negocio y el comportamiento de los usuarios en productos digitales, y aplicarlas en  ejemplos prácticos.\n"
      ]
    },
    {
      "cell_type": "markdown",
      "id": "5edf733c",
      "metadata": {
        "id": "5edf733c"
      },
      "source": [
        "## Medir para mejorar"
      ]
    },
    {
      "cell_type": "markdown",
      "id": "87ea1008",
      "metadata": {
        "id": "87ea1008"
      },
      "source": [
        "Medir es el primer paso para comprender y mejorar. El análisis de datos permite transformar la información en métricas de negocio que revelan patrones, oportunidades y riesgos. Estas métricas hacen posible decisiones *data driven*, donde la intuición se complementa con evidencia, fortaleciendo el rol del profesional de datos como un agente clave en la estrategia empresarial.\n",
        "\n",
        "*Las métricas de negocio* son indicadores cuantitativos que permiten evaluar el desempeño de una empresa en diferentes áreas: ventas, retención, satisfacción, eficiencia, entre otras.  \n",
        "\n",
        "Cuando estas métricas se alinean con los objetivos estratégicos se convierten en *KPIs (Key Performance Indicators)*, es decir, métricas clave que guían la toma de decisiones y permiten medir el progreso hacia metas específicas.  \n",
        "\n",
        "> En resumen: todas las KPIs son métricas, pero no todas las métricas llegan a ser KPIs.\n"
      ]
    },
    {
      "cell_type": "markdown",
      "id": "dc854c34",
      "metadata": {
        "id": "dc854c34"
      },
      "source": [
        "Antes de continuar, realizaremos un análisis de negocio revisando algunos conceptos y métricas de interés. Lo haremos a través de un ejercicio práctico que nos permitirá comprender cómo estas métricas se calculan y aplican, conectando la teoría con la práctica para obtener una visión más clara del desempeño empresarial."
      ]
    },
    {
      "cell_type": "markdown",
      "id": "10c0ad1f",
      "metadata": {
        "id": "10c0ad1f"
      },
      "source": [
        "### 🧪 Análisis de resultados de campañas de marketing"
      ]
    },
    {
      "cell_type": "code",
      "execution_count": null,
      "id": "5cfdd204",
      "metadata": {
        "id": "5cfdd204"
      },
      "outputs": [],
      "source": [
        "import pandas as pd\n",
        "import numpy as np\n",
        "import matplotlib.pyplot as plt\n",
        "import seaborn as sns\n"
      ]
    },
    {
      "cell_type": "code",
      "execution_count": null,
      "id": "c7feedff",
      "metadata": {
        "id": "c7feedff"
      },
      "outputs": [],
      "source": [
        "sns.set(style=\"whitegrid\", palette=\"pastel\")\n"
      ]
    },
    {
      "cell_type": "markdown",
      "id": "1ce9a1b4",
      "metadata": {
        "id": "1ce9a1b4"
      },
      "source": [
        "\n",
        "> Eres parte del equipo de análisis de una empresa digital que ha implementado varias campañas de marketing para atraer usuarios y generar conversiones en su plataforma. Ahora cuentas con tres conjuntos de datos clave que te permitirán realizar un análisis integral del desempeño de las campañas:\n",
        "\n",
        "\n",
        "1. **Interacciones y transacciones `orders`:**  \n",
        "   - Cada registro representa una interacción de usuario que resultó en una transacción.\n",
        "   - Columnas: `uuid_interaction` (ID de interacción), `transaction_ts` (fecha/hora), `items` (artículos comprados), `amount` (monto total).\n",
        "\n",
        "2. **Costos de campañas `campaign_detaials` :**  \n",
        "   - Información de costos fijos y variables para cada campaña.\n",
        "   - Columnas: `id_campaña`, `costo_base_campaña`, `costo_por_dia_activo_campaña`, `costo_por_interaccion_campaña`.\n",
        "\n",
        "3. **Visitas y conversiones de usuarios `visits`:**  \n",
        "   - Cada registro representa una visita de usuario a la plataforma, asociada a una campaña.\n",
        "   - Columnas: `uuid_user` (ID de usuario), `ts_visits` (fecha/hora), `campaign` (ID de campaña), `uuid_interaction` (ID de interacción), `convertion` (1 si hubo conversión, 0 si no).\n",
        "\n",
        "### Sugerencias de análisis de interés\n",
        "\n",
        "- **Tasa de conversión por campaña:** Calcula el porcentaje de visitas que terminan en conversión para cada campaña.\n",
        "- **Ingresos y artículos vendidos por campaña:** Suma el monto total y la cantidad de artículos vendidos asociados a cada campaña.\n",
        "- **Rentabilidad de campañas:** Relaciona los ingresos y conversiones generados con los costos totales (base, por día y por interacción) para identificar campañas más rentables.\n",
        "- **Comportamiento de usuarios:** Analiza cuántos usuarios únicos visitan, interactúan y convierten en cada campaña.\n",
        "- **Tendencias temporales:** Visualiza cómo varían las visitas, conversiones e ingresos a lo largo del tiempo y detecta patrones estacionales o picos de actividad.\n",
        "- **Eficiencia de inversión:** Calcula métricas como el costo por conversión, el ingreso por visita y el retorno de inversión (ROI) para cada campaña.\n",
        "\n",
        "Con estos análisis podrás obtener una visión completa del desempeño de las campañas, identificar oportunidades de mejora y tomar decisiones informadas para optimizar futuras estrategias"
      ]
    },
    {
      "cell_type": "markdown",
      "id": "539ee235",
      "metadata": {
        "id": "539ee235"
      },
      "source": [
        "#### Carga de datos y exploración"
      ]
    },
    {
      "cell_type": "code",
      "execution_count": null,
      "id": "72fdadaa",
      "metadata": {
        "id": "72fdadaa"
      },
      "outputs": [],
      "source": [
        "visits =pd.read_csv(\"https://raw.githubusercontent.com/zyntonyson/bootcamp_ds_da/refs/heads/main/datasets/visits.csv\")\n"
      ]
    },
    {
      "cell_type": "code",
      "execution_count": null,
      "id": "b41ece40",
      "metadata": {
        "id": "b41ece40"
      },
      "outputs": [],
      "source": [
        "orders =pd.read_csv(\"https://raw.githubusercontent.com/zyntonyson/bootcamp_ds_da/refs/heads/main/datasets/orders.csv\")\n"
      ]
    },
    {
      "cell_type": "code",
      "execution_count": null,
      "id": "1b377f95",
      "metadata": {
        "id": "1b377f95"
      },
      "outputs": [],
      "source": [
        "campaigns_details =pd.read_csv(\"https://raw.githubusercontent.com/zyntonyson/bootcamp_ds_da/refs/heads/main/datasets/campaigns_details.csv\")"
      ]
    },
    {
      "cell_type": "markdown",
      "id": "e09bdc3e",
      "metadata": {
        "id": "e09bdc3e"
      },
      "source": [
        "#### `Visits` EDA e ingenieria de características"
      ]
    },
    {
      "cell_type": "code",
      "execution_count": null,
      "id": "3043cb1c",
      "metadata": {
        "id": "3043cb1c"
      },
      "outputs": [],
      "source": [
        "visits.info()\n"
      ]
    },
    {
      "cell_type": "code",
      "execution_count": null,
      "id": "05d31028",
      "metadata": {
        "id": "05d31028"
      },
      "outputs": [],
      "source": [
        "visits.head()"
      ]
    },
    {
      "cell_type": "code",
      "execution_count": null,
      "id": "e75a1654",
      "metadata": {
        "id": "e75a1654"
      },
      "outputs": [],
      "source": [
        "visits.describe(include='all')"
      ]
    },
    {
      "cell_type": "code",
      "execution_count": null,
      "id": "b4ff7dd7",
      "metadata": {
        "id": "b4ff7dd7"
      },
      "outputs": [],
      "source": [
        "ordered_days = ['Monday', 'Tuesday', 'Wednesday', 'Thursday', 'Friday', 'Saturday', 'Sunday']\n",
        "\n",
        "# Creamos un nuevo DataFrame\n",
        "visits_enrichment = visits.copy()\n",
        "\n",
        "# Convertimos la columna ts_visits a tipo datetime\n",
        "visits_enrichment['ts_visits'] = pd.to_datetime(visits_enrichment['ts_visits'])\n",
        "\n",
        "# Extraemos solo la fecha de la visita\n",
        "visits_enrichment['date_visits'] = visits_enrichment['ts_visits'].dt.date\n",
        "\n",
        "# Obtenemos el nombre del día de la semana\n",
        "visits_enrichment['dow_id'] = visits_enrichment['ts_visits'].dt.day_name()\n",
        "\n",
        "# Convertimos el día de la semana a categórico ordenado (de lunes a domingo)\n",
        "visits_enrichment['dow'] = pd.Categorical(\n",
        "    visits_enrichment['dow_id'],\n",
        "    categories=ordered_days,\n",
        "    ordered=True\n",
        ")\n"
      ]
    },
    {
      "cell_type": "code",
      "execution_count": null,
      "id": "1dd2c371",
      "metadata": {
        "id": "1dd2c371"
      },
      "outputs": [],
      "source": [
        "print( f\"Users : {visits_enrichment.uuid_user.nunique()}\")\n",
        "print( f\"Visits : {visits_enrichment.uuid_interaction.nunique()}\")\n",
        "print( f\"Start : {visits_enrichment.ts_visits.min()}\")\n",
        "print( f\"End : {visits_enrichment.ts_visits.max()}\")"
      ]
    },
    {
      "cell_type": "markdown",
      "id": "1b6b745e",
      "metadata": {
        "id": "1b6b745e"
      },
      "source": [
        "#### **Muestra  visitas y usuarios únicos por fecha**"
      ]
    },
    {
      "cell_type": "code",
      "execution_count": null,
      "id": "ece95c5a",
      "metadata": {
        "id": "ece95c5a"
      },
      "outputs": [],
      "source": [
        "df=(\n",
        "    visits_enrichment\n",
        "        .groupby(['date_visits'],as_index=False)\n",
        "        .agg(\n",
        "            visitas = ('uuid_interaction','nunique'),\n",
        "            usuarios_unicos = ('uuid_user','nunique'),\n",
        "        )\n",
        "        .sort_values(by='date_visits')\n",
        ")\n",
        "df.head()"
      ]
    },
    {
      "cell_type": "code",
      "execution_count": null,
      "id": "1eb3f837",
      "metadata": {
        "id": "1eb3f837"
      },
      "outputs": [],
      "source": [
        "plt.figure(figsize=(10, 5))\n",
        "sns.lineplot(data=df, x='date_visits', y='visitas', label='Visitas')\n",
        "sns.lineplot(data=df, x='date_visits', y='usuarios_unicos', label='Usuarios Únicos')\n",
        "\n",
        "plt.title(\"Usuarios y Visitas durante las campañas\")\n",
        "plt.xlabel(\"Fecha\")\n",
        "plt.ylabel(\"Frecuencia\")\n",
        "plt.legend()\n",
        "plt.tight_layout()\n",
        "plt.show()"
      ]
    },
    {
      "cell_type": "markdown",
      "id": "3d27d55a",
      "metadata": {
        "id": "3d27d55a"
      },
      "source": [
        "#### **Muestra la conversión diaria por campaña**"
      ]
    },
    {
      "cell_type": "code",
      "execution_count": null,
      "id": "8506573a",
      "metadata": {
        "id": "8506573a"
      },
      "outputs": [],
      "source": [
        "(\n",
        "    visits_enrichment\n",
        "        .groupby(['campaign'],as_index=False)\n",
        "        .agg(\n",
        "            visitas = ('uuid_interaction','nunique'),\n",
        "            convertions = ('convertion','sum'),\n",
        "        )\n",
        "        .assign(\n",
        "            rate_convertion_daily = lambda df: (df.convertions/df.visitas).round(3)\n",
        "        )\n",
        "        .sort_values(by='rate_convertion_daily',ascending=False)\n",
        ")"
      ]
    },
    {
      "cell_type": "markdown",
      "id": "ce2a0c35",
      "metadata": {
        "id": "ce2a0c35"
      },
      "source": [
        "> CCQ: “Si una campaña tuvo 200 visitas y 20 conversiones, ¿cuál es su tasa de conversión?”"
      ]
    },
    {
      "cell_type": "code",
      "execution_count": null,
      "id": "7fe285c2",
      "metadata": {
        "id": "7fe285c2"
      },
      "outputs": [],
      "source": [
        "df=(\n",
        "    visits_enrichment\n",
        "        .groupby(['date_visits','campaign'],as_index=False)\n",
        "        .agg(\n",
        "            visitas = ('uuid_interaction','nunique'),\n",
        "            convertions = ('convertion','sum'),\n",
        "        )\n",
        "        .assign(\n",
        "            rate_convertion_daily = lambda df: (df.convertions/df.visitas).round(3)\n",
        "        )\n",
        "        .sort_values(by='date_visits')\n",
        ")\n",
        "df.head()"
      ]
    },
    {
      "cell_type": "markdown",
      "id": "4894912c",
      "metadata": {
        "id": "4894912c"
      },
      "source": [
        ">"
      ]
    },
    {
      "cell_type": "code",
      "execution_count": null,
      "id": "df063bba",
      "metadata": {
        "id": "df063bba"
      },
      "outputs": [],
      "source": [
        "plt.figure(figsize=(12, 6))\n",
        "sns.lineplot(data=df, x='date_visits', y='rate_convertion_daily', hue='campaign', marker='o')\n",
        "\n",
        "plt.title(\"Tasa de Conversión Diaria por Campaña\")\n",
        "plt.xlabel(\"Fecha\")\n",
        "plt.ylabel(\"Tasa de Conversión Diaria\")\n",
        "plt.legend(title=\"Campaña\", bbox_to_anchor=(1.05, 1), loc='upper left')\n",
        "plt.xticks(rotation=45)\n",
        "plt.tight_layout()\n",
        "plt.show()"
      ]
    },
    {
      "cell_type": "markdown",
      "id": "8932d717",
      "metadata": {
        "id": "8932d717"
      },
      "source": [
        "> Para pensar 🤔 : ¿Cuál creen que es más útil para un negocio: medir visitas o conversiones? ¿Por qué?"
      ]
    },
    {
      "cell_type": "markdown",
      "id": "f865555e",
      "metadata": {
        "id": "f865555e"
      },
      "source": [
        "#### `Orders` EDA e ingenieria de características"
      ]
    },
    {
      "cell_type": "code",
      "execution_count": null,
      "id": "be577bae",
      "metadata": {
        "id": "be577bae"
      },
      "outputs": [],
      "source": [
        "orders.info()"
      ]
    },
    {
      "cell_type": "code",
      "execution_count": null,
      "id": "ebb1e00e",
      "metadata": {
        "id": "ebb1e00e"
      },
      "outputs": [],
      "source": [
        "orders.head()"
      ]
    },
    {
      "cell_type": "code",
      "execution_count": null,
      "id": "84e67fde",
      "metadata": {
        "id": "84e67fde"
      },
      "outputs": [],
      "source": [
        "# 1) Hacemos el merge con las columnas necesarias de visits\n",
        "cols_visits = ['uuid_interaction', 'ts_visits', 'campaign', 'uuid_user']\n",
        "orders_enrichment = orders.merge(visits[cols_visits], how='inner').copy()\n",
        "\n",
        "# 2) Conversión de tipos a datetime\n",
        "orders_enrichment['transaction_ts'] = pd.to_datetime(orders_enrichment['transaction_ts'])  # transacción a datetime\n",
        "orders_enrichment['ts_visits'] = pd.to_datetime(orders_enrichment['ts_visits'])            # visita a datetime\n",
        "\n",
        "# 3) Cálculo de días transcurridos hasta la conversión\n",
        "orders_enrichment['days_elapsed_until_convertion'] = (\n",
        "    orders_enrichment['transaction_ts'] - orders_enrichment['ts_visits']\n",
        ").dt.days  # diferencia en días\n",
        "\n",
        "\n",
        "orders_enrichment\n"
      ]
    },
    {
      "cell_type": "code",
      "execution_count": null,
      "id": "3d5e76a5",
      "metadata": {
        "id": "3d5e76a5"
      },
      "outputs": [],
      "source": [
        "orders_enrichment.describe()"
      ]
    },
    {
      "cell_type": "markdown",
      "id": "a4477008",
      "metadata": {
        "id": "a4477008"
      },
      "source": [
        "> CCQ: “¿Qué significa que una campaña tenga en promedio 10 días hasta conversión? ¿Es bueno o malo?”"
      ]
    },
    {
      "cell_type": "markdown",
      "id": "44b93427",
      "metadata": {
        "id": "44b93427"
      },
      "source": [
        "#### **Muestra los ingresos diarios por campaña**"
      ]
    },
    {
      "cell_type": "code",
      "execution_count": null,
      "id": "e337da85",
      "metadata": {
        "id": "e337da85"
      },
      "outputs": [],
      "source": [
        "# 1) Copia para evitar cambio en los datos originales\n",
        "df = orders_enrichment.copy()\n",
        "\n",
        "# 2) Convertir a formato fecha\n",
        "df['transaction_date'] = df['transaction_ts'].dt.date     # fecha (sin hora) de la transacción\n",
        "df['campaign'] = df['campaign'].astype(str)                # aseguramos tipo string\n",
        "\n",
        "# 3) Agregaciones por fecha-campaña\n",
        "df = df.groupby(['transaction_date', 'campaign'], as_index=False).agg(\n",
        "    users_converted = ('uuid_user', 'nunique'),              # usuarios únicos que convirtieron\n",
        "    convertions = ('uuid_interaction', 'nunique'),           # número de conversiones (interacciones únicas)\n",
        "    revenue = ('amount', 'sum')                              # ingresos totales\n",
        ")\n",
        "\n",
        "# 4) Revenue en miles\n",
        "df['k_revenue'] = df['revenue'] / 1000\n",
        "\n",
        "\n",
        "df.head()"
      ]
    },
    {
      "cell_type": "code",
      "execution_count": null,
      "id": "3ca63de7",
      "metadata": {
        "id": "3ca63de7"
      },
      "outputs": [],
      "source": [
        "plt.figure(figsize=(12, 6))\n",
        "sns.lineplot(data=df, x='transaction_date', y='k_revenue', hue='campaign', marker='o')\n",
        "\n",
        "# Etiquetas\n",
        "plt.title(\"Daily (K) Revenue per Campaign\")\n",
        "plt.xlabel(\"Transaction Date\")\n",
        "plt.ylabel(\"Revenue\")\n",
        "plt.xticks(rotation=45)\n",
        "plt.legend(title=\"Campaign\", bbox_to_anchor=(1.05, 1), loc='upper left')\n",
        "plt.tight_layout()\n",
        "plt.show()"
      ]
    },
    {
      "cell_type": "markdown",
      "id": "76600196",
      "metadata": {
        "id": "76600196"
      },
      "source": [
        "#### **Por campaña muestra la cantidad de interacciones, conversiones, ingresos generados, tiempo promedio de conversión**"
      ]
    },
    {
      "cell_type": "code",
      "execution_count": null,
      "id": "ed17f94f",
      "metadata": {
        "id": "ed17f94f"
      },
      "outputs": [],
      "source": [
        "\n",
        "tmp = visits_enrichment.copy()\n",
        "\n",
        "# Agregaciones por campaña\n",
        "grouped = tmp.groupby(['campaign'], as_index=False).agg(\n",
        "    visitas=('uuid_interaction', 'nunique'),   # visitas únicas (interacciones únicas)\n",
        "    convertions=('convertion', 'sum'),         # total de conversiones (suma de flag/columna convertion)\n",
        "    start_campaign=('ts_visits', 'min'),       # primer timestamp de visita por campaña\n",
        "    end_campaign=('ts_visits', 'max')          # último timestamp de visita por campaña\n",
        ")\n",
        "\n",
        "# Columnas derivadas\n",
        "grouped['rate_convertion'] = (grouped['convertions'] / grouped['visitas']).round(3)  # tasa de conversión\n",
        "grouped['campaigns_days_duration'] = (grouped['end_campaign'] - grouped['start_campaign']).dt.days  # duración en días\n",
        "\n",
        "# Ordenamos por la tasa de conversión\n",
        "visits_summary = grouped.sort_values(by='rate_convertion', ascending=False)\n",
        "\n",
        "\n",
        "visits_summary\n"
      ]
    },
    {
      "cell_type": "code",
      "execution_count": null,
      "id": "13d25662",
      "metadata": {
        "id": "13d25662"
      },
      "outputs": [],
      "source": [
        "tmp = orders_enrichment.copy()\n",
        "\n",
        "tmp['transaction_date'] = tmp['transaction_ts'].dt.date\n",
        "\n",
        "#  Agregaciones por campaña\n",
        "grouped = tmp.groupby(['campaign'], as_index=False).agg(\n",
        "    users_converted=('uuid_user', 'nunique'),                 # usuarios únicos que convirtieron\n",
        "    convertions_interact=('uuid_interaction', 'nunique'),     # número de conversiones (interacciones únicas)\n",
        "    revenue=('amount', 'sum'),                                # ingresos totales\n",
        "    time_convertion_avg=('days_elapsed_until_convertion', 'mean')  # promedio de días a conversión\n",
        ")\n",
        "\n",
        "#  (revenue en miles)\n",
        "grouped['k_revenue'] = grouped['revenue'] / 1000\n",
        "\n",
        "#\n",
        "orders_summary = grouped\n"
      ]
    },
    {
      "cell_type": "code",
      "execution_count": null,
      "id": "a39bc15d",
      "metadata": {
        "id": "a39bc15d"
      },
      "outputs": [],
      "source": [
        "v_cols = ['campaign', 'visitas', 'rate_convertion', 'campaigns_days_duration']\n",
        "o_cols = ['campaign', 'revenue', 'time_convertion_avg']\n",
        "\n",
        "\n",
        "# Merge df\n",
        "campaigns_results = visits_summary[v_cols].merge(orders_summary[o_cols], how='inner', on='campaign')\n",
        "\n",
        "#    - Ingreso por interacción (visita)\n",
        "campaigns_results['rate_revenue_interaction'] = (campaigns_results['revenue'] / campaigns_results['visitas']).round(3)\n",
        "\n",
        "#    - Ingreso por conversión (visita * tasa de conversión)\n",
        "campaigns_results['rate_revenue_convertion'] = (\n",
        "    campaigns_results['revenue'] / (campaigns_results['visitas'] * campaigns_results['rate_convertion'])\n",
        ").round(3)\n",
        "\n",
        "#\n",
        "campaigns_results\n"
      ]
    },
    {
      "cell_type": "markdown",
      "id": "c8cadc96",
      "metadata": {
        "id": "c8cadc96"
      },
      "source": [
        "#### **Muestra el ROMI por campaña**"
      ]
    },
    {
      "cell_type": "markdown",
      "id": "abdf1bab",
      "metadata": {
        "id": "abdf1bab"
      },
      "source": [
        "El **ROMI (Return On Marketing Investment)** mide la rentabilidad de una campaña comparando los ingresos generados con el gasto en marketing.  \n",
        "El ROMI se enfoca en evaluar el impacto de las inversiones de marketing, mostrando qué campañas realmente aportan valor al negocio.  \n",
        "\n",
        "La fórmula es:\n",
        "\n",
        "$$\n",
        "ROMI = \\frac{\\text{Ingresos - Inversión en Marketing}}{\\text{Inversión en Marketing}}\n",
        "$$\n"
      ]
    },
    {
      "cell_type": "code",
      "execution_count": null,
      "id": "1bab87a3",
      "metadata": {
        "id": "1bab87a3"
      },
      "outputs": [],
      "source": [
        "campaigns_details.info()"
      ]
    },
    {
      "cell_type": "code",
      "execution_count": null,
      "id": "64b53f17",
      "metadata": {
        "id": "64b53f17"
      },
      "outputs": [],
      "source": [
        "campaigns_details.head()"
      ]
    },
    {
      "cell_type": "code",
      "execution_count": null,
      "id": "0db7c388",
      "metadata": {
        "id": "0db7c388"
      },
      "outputs": [],
      "source": [
        "def get_romi(row):\n",
        "    # Costos individuales\n",
        "    base = row['costo_base_campaña']\n",
        "    costo_dias = row['costo_por_dia_activo_campaña'] * row['campaigns_days_duration']\n",
        "    costo_interacciones = row['costo_por_interaccion_campaña'] * row['visitas']\n",
        "\n",
        "    # Costo total\n",
        "    costo_total = base + costo_dias + costo_interacciones\n",
        "\n",
        "    # Ingreso\n",
        "    revenue = row['revenue']\n",
        "\n",
        "    # ROMI\n",
        "    if costo_total == 0:\n",
        "        return None  # Venta organica\n",
        "    return (revenue - costo_total) / costo_total"
      ]
    },
    {
      "cell_type": "code",
      "execution_count": null,
      "id": "d47ff2a6",
      "metadata": {
        "id": "d47ff2a6"
      },
      "outputs": [],
      "source": [
        "(\n",
        "    campaigns_details\n",
        "        .rename(columns={'id_campaña':'campaign'})\n",
        "        .merge(campaigns_results[['visitas','campaigns_days_duration','revenue','campaign']],how='inner',on='campaign')\n",
        "        .assign(\n",
        "            ROMI= lambda df: df.apply(get_romi,axis=1)\n",
        "        )\n",
        "        .sort_values('ROMI',ascending=False)\n",
        ")"
      ]
    },
    {
      "cell_type": "markdown",
      "id": "51f52c60",
      "metadata": {
        "id": "51f52c60"
      },
      "source": [
        "> CCQ 🤔 : “¿Por qué una campaña con ROMI bajo podría seguir siendo relevante para el negocio?”"
      ]
    },
    {
      "cell_type": "markdown",
      "id": "56132774",
      "metadata": {
        "id": "56132774"
      },
      "source": [
        "## ✅ Para cerrar\n",
        "\n",
        "---\n",
        "\n",
        "\n",
        "1. **La integración de datos de visitas, interacciones y costos permite un análisis completo del desempeño de campañas de marketing**, facilitando la identificación de las campañas más rentables y efectivas.\n",
        "\n",
        "2. **El uso de métricas de negocios** son importantes para entender el estado del negocio ayudando a tomar decisiones informadas sobre inversión y optimización.\n",
        "\n",
        "\n",
        "> ¿Que potencial ves de lo que hemos tratado hoy?, ¿Cómo se te ocurre usarlo?\n"
      ]
    },
    {
      "cell_type": "markdown",
      "id": "9407dae7",
      "metadata": {
        "id": "9407dae7"
      },
      "source": [
        "\n",
        "\n",
        "## 🚀 Para seguir aprendiendo :\n",
        "\n",
        "---\n",
        "\n",
        "- 📚 Vuelve a revisar este notebook junto con la grabación y ¡anímate a ejecutar todo el código por tu cuenta!\n",
        "- 💬 Recuerda que en Discord puedes dejar todos tus comentarios y dudas sobre el contenido del sprint en [Sprint 9](https://discord.com/channels/1081207584104656986/1270074211540406342).\n",
        "    - 📝 Si tienes preguntas sobre tu proyecto, usa el canal `#project` para recibir ayuda y compartir ideas.\n",
        "    - 🤝 Aprovecha el espacio de `CoLearning` para aclarar tus dudas junto con otros estudiantes e instructores: [Co-Learning](https://discord.com/channels/1081207584104656986/1197953851391746119).\n",
        "- 📅 ¿Necesitas ayuda personalizada? Puedes agendar una sesión `1:1` conmigo aquí: [1:1 Roman Castillo](https://scheduler.zoom.us/roman-castillo/1-1-roman-castillo).\n",
        "\n",
        "¡Sigue practicando y no dudes en pedir apoyo cuando lo necesites! 💪✨"
      ]
    }
  ],
  "metadata": {
    "kernelspec": {
      "display_name": ".venv",
      "language": "python",
      "name": "python3"
    },
    "language_info": {
      "codemirror_mode": {
        "name": "ipython",
        "version": 3
      },
      "file_extension": ".py",
      "mimetype": "text/x-python",
      "name": "python",
      "nbconvert_exporter": "python",
      "pygments_lexer": "ipython3",
      "version": "3.12.0"
    },
    "colab": {
      "provenance": []
    }
  },
  "nbformat": 4,
  "nbformat_minor": 5
}